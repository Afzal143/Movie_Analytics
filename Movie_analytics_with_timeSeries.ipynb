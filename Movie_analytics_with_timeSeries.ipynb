{
 "cells": [
  {
   "cell_type": "code",
   "execution_count": 2,
   "metadata": {
    "collapsed": true
   },
   "outputs": [],
   "source": [
    "import pandas as pd\n"
   ]
  },
  {
   "cell_type": "code",
   "execution_count": null,
   "metadata": {
    "collapsed": true
   },
   "outputs": [],
   "source": [
    "#Dataset name changed as required' such as movie dataset'"
   ]
  },
  {
   "cell_type": "code",
   "execution_count": 19,
   "metadata": {
    "collapsed": false
   },
   "outputs": [
    {
     "data": {
      "text/html": [
       "<div>\n",
       "<table border=\"1\" class=\"dataframe\">\n",
       "  <thead>\n",
       "    <tr style=\"text-align: right;\">\n",
       "      <th></th>\n",
       "      <th>Movie_id</th>\n",
       "      <th>Movie_name</th>\n",
       "      <th>ratings</th>\n",
       "      <th>duration</th>\n",
       "    </tr>\n",
       "    <tr>\n",
       "      <th>release_year</th>\n",
       "      <th></th>\n",
       "      <th></th>\n",
       "      <th></th>\n",
       "      <th></th>\n",
       "    </tr>\n",
       "  </thead>\n",
       "  <tbody>\n",
       "    <tr>\n",
       "      <th>1993-01-01</th>\n",
       "      <td>1</td>\n",
       "      <td>The Nightmare Before Christmas</td>\n",
       "      <td>3.9</td>\n",
       "      <td>4568.0</td>\n",
       "    </tr>\n",
       "    <tr>\n",
       "      <th>1932-01-01</th>\n",
       "      <td>2</td>\n",
       "      <td>The Mummy</td>\n",
       "      <td>3.5</td>\n",
       "      <td>4388.0</td>\n",
       "    </tr>\n",
       "    <tr>\n",
       "      <th>1921-01-01</th>\n",
       "      <td>3</td>\n",
       "      <td>Orphans of the Storm</td>\n",
       "      <td>3.2</td>\n",
       "      <td>9062.0</td>\n",
       "    </tr>\n",
       "    <tr>\n",
       "      <th>1991-01-01</th>\n",
       "      <td>4</td>\n",
       "      <td>The Object of Beauty</td>\n",
       "      <td>2.8</td>\n",
       "      <td>6150.0</td>\n",
       "    </tr>\n",
       "    <tr>\n",
       "      <th>1963-01-01</th>\n",
       "      <td>5</td>\n",
       "      <td>Night Tide</td>\n",
       "      <td>2.8</td>\n",
       "      <td>5126.0</td>\n",
       "    </tr>\n",
       "  </tbody>\n",
       "</table>\n",
       "</div>"
      ],
      "text/plain": [
       "              Movie_id                      Movie_name  ratings  duration\n",
       "release_year                                                             \n",
       "1993-01-01           1  The Nightmare Before Christmas      3.9    4568.0\n",
       "1932-01-01           2                       The Mummy      3.5    4388.0\n",
       "1921-01-01           3            Orphans of the Storm      3.2    9062.0\n",
       "1991-01-01           4            The Object of Beauty      2.8    6150.0\n",
       "1963-01-01           5                      Night Tide      2.8    5126.0"
      ]
     },
     "execution_count": 19,
     "metadata": {},
     "output_type": "execute_result"
    }
   ],
   "source": [
    "df_cols = ['Movie_id','Movie_name', 'release_year',  'ratings', 'duration' ]\n",
    "df = pd.read_csv('movies dataset for pig.txt', sep = ',', encoding=\"ISO-8859-1\", names=df_cols, index_col='release_year',\n",
    "                parse_dates=[\"release_year\"])\n",
    "df.head()"
   ]
  },
  {
   "cell_type": "code",
   "execution_count": 20,
   "metadata": {
    "collapsed": false
   },
   "outputs": [
    {
     "name": "stdout",
     "output_type": "stream",
     "text": [
      "<class 'pandas.core.frame.DataFrame'>\n",
      "DatetimeIndex: 49590 entries, 1993-01-01 to 2010-01-01\n",
      "Data columns (total 4 columns):\n",
      "Movie_id      49590 non-null int64\n",
      "Movie_name    49590 non-null object\n",
      "ratings       10814 non-null float64\n",
      "duration      45836 non-null float64\n",
      "dtypes: float64(2), int64(1), object(1)\n",
      "memory usage: 1.9+ MB\n"
     ]
    }
   ],
   "source": [
    "df.info()"
   ]
  },
  {
   "cell_type": "code",
   "execution_count": 21,
   "metadata": {
    "collapsed": false
   },
   "outputs": [
    {
     "data": {
      "text/plain": [
       "DatetimeIndex(['1993-01-01', '1932-01-01', '1921-01-01', '1991-01-01',\n",
       "               '1963-01-01', '1985-01-01', '1994-01-01', '1994-01-01',\n",
       "               '1929-01-01', '1995-01-01',\n",
       "               ...\n",
       "               '2009-01-01', '1996-01-01', '2013-01-01', '2012-01-01',\n",
       "               '2013-01-01', '2013-01-01', '2013-01-01', '2010-01-01',\n",
       "               '2010-01-01', '2010-01-01'],\n",
       "              dtype='datetime64[ns]', name='release_year', length=49590, freq=None)"
      ]
     },
     "execution_count": 21,
     "metadata": {},
     "output_type": "execute_result"
    }
   ],
   "source": [
    "df.index"
   ]
  },
  {
   "cell_type": "code",
   "execution_count": 40,
   "metadata": {
    "collapsed": false
   },
   "outputs": [
    {
     "data": {
      "text/plain": [
       "Index(['Movie_id', 'Movie_name', 'ratings', 'duration'], dtype='object')"
      ]
     },
     "execution_count": 40,
     "metadata": {},
     "output_type": "execute_result"
    }
   ],
   "source": [
    "df.columns"
   ]
  },
  {
   "cell_type": "code",
   "execution_count": 84,
   "metadata": {
    "collapsed": false
   },
   "outputs": [
    {
     "data": {
      "text/plain": [
       "release_year\n",
       "1950-01-01                                        All About Eve\n",
       "1959-01-01                                House on Haunted Hill\n",
       "1956-01-01                       Godzilla: King of the Monsters\n",
       "1952-01-01                                            High Noon\n",
       "1953-01-01                             Beneath the 12-Mile Reef\n",
       "1960-01-01                                         Black Sunday\n",
       "1955-01-01                      Love Is a Many-Splendored Thing\n",
       "1953-01-01                                                Shane\n",
       "1954-01-01                                      White Christmas\n",
       "1958-01-01                          Attack of the Puppet People\n",
       "1951-01-01                                The Man from Planet X\n",
       "1954-01-01                                         Carmen Jones\n",
       "1953-01-01                           How to Marry a Millionaire\n",
       "1955-01-01                                  The Seven Year Itch\n",
       "1954-01-01               There's No Business Like Show Business\n",
       "1953-01-01                                        Roman Holiday\n",
       "1960-01-01                                      Never on Sunday\n",
       "1951-01-01                                    The African Queen\n",
       "1958-01-01                       The Inn of the Sixth Happiness\n",
       "1950-01-01                                              The Men\n",
       "1959-01-01                                    Imitation of Life\n",
       "1957-01-01                          Witness for the Prosecution\n",
       "1956-01-01                                        War and Peace\n",
       "1953-01-01                                                Hondo\n",
       "1953-01-01                                      Donovan's Brain\n",
       "1952-01-01                                      Monkey Business\n",
       "1954-01-01                                   River of No Return\n",
       "1955-01-01                                        The Big Knife\n",
       "1950-01-01                             The Rocking Horse Winner\n",
       "1960-01-01                                      Two-Way Stretch\n",
       "                                    ...                        \n",
       "1960-01-01     Leave It to Beaver: Season 4: The School Picture\n",
       "1957-01-01        Leave It to Beaver: Season 1: Lonesome Beaver\n",
       "1957-01-01     Leave It to Beaver: Season 1: The Perfect Father\n",
       "1958-01-01          Leave It to Beaver: Season 2: Beaver's Hero\n",
       "1959-01-01       Leave It to Beaver: Season 3: Beaver's Fortune\n",
       "1957-01-01      Leave It to Beaver: Season 1: The Broken Window\n",
       "1957-01-01             Leave It to Beaver: Season 1: Train Trip\n",
       "1959-01-01           Leave It to Beaver: Season 3: Wally's Play\n",
       "1960-01-01    Leave It to Beaver: Season 4: Wally's Glamour ...\n",
       "1959-01-01               Leave It to Beaver: Season 3: Pet Fair\n",
       "1959-01-01      Leave It to Beaver: Season 3: Beaver and Violet\n",
       "1957-01-01    Alfred Hitchcock Presents: Season 3: The Glass...\n",
       "1957-01-01    Alfred Hitchcock Presents: Season 3: Heart of ...\n",
       "1957-01-01      Alfred Hitchcock Presents: Season 3: The Deadly\n",
       "1957-01-01    Alfred Hitchcock Presents: Season 3: Miss Pais...\n",
       "1957-01-01    Alfred Hitchcock Presents: Season 3: The Perce...\n",
       "1957-01-01        Alfred Hitchcock Presents: Season 3: Together\n",
       "1957-01-01    Alfred Hitchcock Presents: Season 3: Miss Brac...\n",
       "1957-01-01     Alfred Hitchcock Presents: Season 3: On the Nose\n",
       "1957-01-01    Alfred Hitchcock Presents: Season 3: The Right...\n",
       "1957-01-01         Alfred Hitchcock Presents: Season 3: Foghorn\n",
       "1957-01-01    Alfred Hitchcock Presents: Season 3: Death Sen...\n",
       "1957-01-01    Alfred Hitchcock Presents: Season 3: The Croco...\n",
       "1957-01-01    Alfred Hitchcock Presents: Season 3: The Canar...\n",
       "1957-01-01    Alfred Hitchcock Presents: Season 3: Impromptu...\n",
       "1960-01-01                                      September Storm\n",
       "1960-01-01                                   Hercules vs. Hydra\n",
       "1954-01-01                                Isn't Life Wonderful!\n",
       "1958-01-01    Disney Animation Collection: Vol. 4: The Torto...\n",
       "1952-01-01    Disney Animation Collection: Vol. 2: Three Lit...\n",
       "Name: Movie_name, dtype: object"
      ]
     },
     "execution_count": 84,
     "metadata": {},
     "output_type": "execute_result"
    }
   ],
   "source": [
    "df['1950':'1960']['Movie_name']"
   ]
  },
  {
   "cell_type": "code",
   "execution_count": null,
   "metadata": {
    "collapsed": true
   },
   "outputs": [],
   "source": [
    "#Find the number of movies released between 1950 and 1960."
   ]
  },
  {
   "cell_type": "code",
   "execution_count": 58,
   "metadata": {
    "collapsed": false
   },
   "outputs": [
    {
     "data": {
      "text/plain": [
       "547"
      ]
     },
     "execution_count": 58,
     "metadata": {},
     "output_type": "execute_result"
    }
   ],
   "source": [
    "df['1950':'1960']['Movie_name'].count()"
   ]
  },
  {
   "cell_type": "code",
   "execution_count": null,
   "metadata": {
    "collapsed": true
   },
   "outputs": [],
   "source": [
    "#Find the number of movies having rating more than 4."
   ]
  },
  {
   "cell_type": "code",
   "execution_count": 69,
   "metadata": {
    "collapsed": false
   },
   "outputs": [
    {
     "data": {
      "text/plain": [
       "897"
      ]
     },
     "execution_count": 69,
     "metadata": {},
     "output_type": "execute_result"
    }
   ],
   "source": [
    "df[df['ratings'] > 4 ] ['Movie_name'].count()"
   ]
  },
  {
   "cell_type": "code",
   "execution_count": null,
   "metadata": {
    "collapsed": true
   },
   "outputs": [],
   "source": [
    "#Find the movies whose rating are between 3 and 4."
   ]
  },
  {
   "cell_type": "code",
   "execution_count": 146,
   "metadata": {
    "collapsed": false
   },
   "outputs": [
    {
     "data": {
      "text/plain": [
       "release_year\n",
       "1993-01-01                       The Nightmare Before Christmas\n",
       "1932-01-01                                            The Mummy\n",
       "1921-01-01                                 Orphans of the Storm\n",
       "1985-01-01                                  One Magic Christmas\n",
       "1994-01-01                                     Muriel's Wedding\n",
       "1994-01-01                                        Mother's Boys\n",
       "1929-01-01                          Nosferatu: Original Version\n",
       "1995-01-01                                         Nick of Time\n",
       "1919-01-01                                      Broken Blossoms\n",
       "1996-01-01                                            Big Night\n",
       "1978-01-01                                 The Boys from Brazil\n",
       "1935-01-01                            The Bride of Frankenstein\n",
       "1996-01-01                                      Beautiful Girls\n",
       "1981-01-01                                        Bustin' Loose\n",
       "1971-01-01                                         The Beguiled\n",
       "1989-01-01                           Born on the Fourth of July\n",
       "1987-01-01                                       Broadcast News\n",
       "1994-01-01                                 Swimming with Sharks\n",
       "1996-01-01                      Beavis and Butt-head Do America\n",
       "1986-01-01                               Brighton Beach Memoirs\n",
       "1986-01-01                                    The Best of Times\n",
       "1996-01-01                                          Brassed Off\n",
       "1972-01-01                                  Last Tango in Paris\n",
       "1994-01-01                                         Leprechaun 2\n",
       "1992-01-01        Incident at Oglala: The Leonard Peltier Story\n",
       "1993-01-01                                           Kalifornia\n",
       "1938-01-01                                    The Lady Vanishes\n",
       "1996-01-01                                   Jingle All the Way\n",
       "1993-01-01                                          Killing Zoe\n",
       "1992-01-01                                      King of Beggars\n",
       "                                    ...                        \n",
       "2013-01-01                                            Switchmas\n",
       "2010-01-01                                               A Liga\n",
       "2013-01-01                                      Mexican Fighter\n",
       "2011-01-01                      Casper's Scare School: Season 2\n",
       "2013-01-01                                  Futurama: Season 10\n",
       "2013-01-01                                        Exploding Sun\n",
       "2011-01-01                                      Mazinkaiser SKL\n",
       "2013-01-01                                            Step Dogs\n",
       "2011-01-01                                      Losers Take All\n",
       "2013-01-01                                          Frozen Land\n",
       "2011-01-01                                          Karate Girl\n",
       "2013-01-01                                    The Magic Crystal\n",
       "2013-01-01                                   El Fuente: 5994 MP\n",
       "2013-01-01                                     El Fuente: 50 MP\n",
       "2013-01-01                                     El Fuente: 30 MP\n",
       "2013-01-01                                   El Fuente: 2997 MP\n",
       "2013-01-01                                     El Fuente: 25 MP\n",
       "2013-01-01                                     El Fuente: 24 MP\n",
       "2013-01-01                                         Saving Santa\n",
       "2012-01-01    GLOW: The Story of the Gorgeous Ladies of Wres...\n",
       "2014-01-01                                 The Square (Trailer)\n",
       "2013-01-01                    My Hope America with Billy Graham\n",
       "2013-01-01                                      American Addict\n",
       "2013-01-01                    My Hope America with Billy Graham\n",
       "2013-01-01                      Greg Fitzsimmons: Life on Stage\n",
       "2013-01-01                          Dave Foley: Relatively Well\n",
       "2012-01-01                Underground: The Julian Assange Story\n",
       "2009-01-01              Curious George: A Very Monkey Christmas\n",
       "2013-01-01     Lady Gaga &#38; The Muppets' Holiday Spectacular\n",
       "2013-01-01                                         Silver Bells\n",
       "Name: Movie_name, dtype: object"
      ]
     },
     "execution_count": 146,
     "metadata": {},
     "output_type": "execute_result"
    }
   ],
   "source": [
    "df1 = df[(df['ratings'] > 3) & (df['ratings'] < 4)]['Movie_name']\n",
    "df1"
   ]
  },
  {
   "cell_type": "code",
   "execution_count": null,
   "metadata": {
    "collapsed": true
   },
   "outputs": [],
   "source": [
    "#Find the number of movies with duration more than 2 hours (7200 second)."
   ]
  },
  {
   "cell_type": "code",
   "execution_count": 99,
   "metadata": {
    "collapsed": false
   },
   "outputs": [
    {
     "data": {
      "text/plain": [
       "641"
      ]
     },
     "execution_count": 99,
     "metadata": {},
     "output_type": "execute_result"
    }
   ],
   "source": [
    "df[df['duration'] >7200] ['Movie_name'].count()"
   ]
  },
  {
   "cell_type": "code",
   "execution_count": null,
   "metadata": {
    "collapsed": true
   },
   "outputs": [],
   "source": [
    "#Find the list of years and number of movies released each year."
   ]
  },
  {
   "cell_type": "code",
   "execution_count": 142,
   "metadata": {
    "collapsed": false
   },
   "outputs": [
    {
     "data": {
      "text/plain": [
       "Bleak House                                                               4\n",
       "Mansfield Park                                                            3\n",
       "Treasure Island                                                           3\n",
       "Kidnapped                                                                 3\n",
       "Titanic                                                                   3\n",
       "Lie to Me                                                                 3\n",
       "Plankton Invasion                                                         3\n",
       "Dirty Money                                                               3\n",
       "Jane Eyre                                                                 3\n",
       "Angelo Rules                                                              3\n",
       "Buffalo Girls                                                             3\n",
       "Dragon                                                                    3\n",
       "Bitter Harvest                                                            2\n",
       "Warrior Graveyard                                                         2\n",
       "TEDTalks: Peace Mongers                                                   2\n",
       "The Mighty Jungle                                                         2\n",
       "The Jungle Book                                                           2\n",
       "Clash of the Dinosaurs                                                    2\n",
       "Elizabeth R                                                               2\n",
       "Thor &#38; Loki: Blood Brothers                                           2\n",
       "Jack Taylor                                                               2\n",
       "Oscar's Oasis                                                             2\n",
       "Woody Allen: A Documentary                                                2\n",
       "WWE: Hulk Hogan: The Ultimate Anthology                                   2\n",
       "Melrose Place 2.0                                                         2\n",
       "A Gentleman's Dignity                                                     2\n",
       "The Adventures of Tintin                                                  2\n",
       "He Knew He Was Right                                                      2\n",
       "Outrage                                                                   2\n",
       "World Without End                                                         2\n",
       "                                                                         ..\n",
       "Batman: The Brave and the Bold: Season 2: A Bat Divided!                  1\n",
       "Ultimate Car Build Off: Season 1: Spy Car                                 1\n",
       "Roswell: Season 2: Skin and Bones                                         1\n",
       "Fatal Attractions: Season 1: A Tiger Loose in Harlem                      1\n",
       "Last Man Standing: Season 1: Moon Over Kenya                              1\n",
       "Pasta: Episode 10                                                         1\n",
       "The Event: Season 1: For the Good of Our Country                          1\n",
       "Wild Animal Baby Explorers: Season 1: Sleepy Time   Rainforest Wonders    1\n",
       "Mission: Impossible: Season 3: Live Bait                                  1\n",
       "Deadliest Catch: Season 6: Redemption Day                                 1\n",
       "Mission: Impossible: Season 4: The Code                                   1\n",
       "Long Island Medium: Season 1                                              1\n",
       "Crossing Jordan: Season 1: The Dawn of a New Day                          1\n",
       "One Tree Hill: Season 4: You Call It Madness  but I Call It Love          1\n",
       "Sherri Shepherd: It's My Time to Talk                                     1\n",
       "Army Wives: Season 3: Operation: Tango                                    1\n",
       "Knight Rider: Season 3: Knights of the Fast Lane                          1\n",
       "Crossing Jordan: Season 2: Don't Look Back                                1\n",
       "Undercover Boss: Season 1: GSI Commerce                                   1\n",
       "The Jungle Book: Season 1: King KAA   The Red Crocodile                   1\n",
       "The Event: Season 1: Your World to Take                                   1\n",
       "Power Rangers Dino Thunder: Copy That                                     1\n",
       "Bollywood Fry: Relationship Status                                        1\n",
       "Melrose Place: Season 5: Last Exit to Ohio                                1\n",
       "LUV                                                                       1\n",
       "The IT Crowd: Series 4: Italian for Beginners                             1\n",
       "In Love with the Dead                                                     1\n",
       "Unleashed: K9 Broward County: Season 1                                    1\n",
       "Iron Man: Armored Adventures: Season 2: The Hammer Falls                  1\n",
       "Wizards of Waverly Place: Season 4: Wizards vs. Angels                    1\n",
       "Name: Movie_name, dtype: int64"
      ]
     },
     "execution_count": 142,
     "metadata": {},
     "output_type": "execute_result"
    }
   ],
   "source": [
    "df['Movie_name'].value_counts()"
   ]
  },
  {
   "cell_type": "code",
   "execution_count": 131,
   "metadata": {
    "collapsed": false
   },
   "outputs": [
    {
     "data": {
      "text/plain": [
       "4"
      ]
     },
     "execution_count": 131,
     "metadata": {},
     "output_type": "execute_result"
    }
   ],
   "source": [
    "df['1923']['Movie_name'].count()"
   ]
  },
  {
   "cell_type": "code",
   "execution_count": null,
   "metadata": {
    "collapsed": true
   },
   "outputs": [],
   "source": [
    "#Find the total number of movies in the dataset."
   ]
  },
  {
   "cell_type": "code",
   "execution_count": 101,
   "metadata": {
    "collapsed": false
   },
   "outputs": [
    {
     "data": {
      "text/plain": [
       "49590"
      ]
     },
     "execution_count": 101,
     "metadata": {},
     "output_type": "execute_result"
    }
   ],
   "source": [
    "df['Movie_name'].count()"
   ]
  },
  {
   "cell_type": "code",
   "execution_count": null,
   "metadata": {
    "collapsed": true
   },
   "outputs": [],
   "source": []
  }
 ],
 "metadata": {
  "anaconda-cloud": {},
  "kernelspec": {
   "display_name": "Python [conda env:work]",
   "language": "python",
   "name": "conda-env-work-py"
  },
  "language_info": {
   "codemirror_mode": {
    "name": "ipython",
    "version": 3
   },
   "file_extension": ".py",
   "mimetype": "text/x-python",
   "name": "python",
   "nbconvert_exporter": "python",
   "pygments_lexer": "ipython3",
   "version": "3.5.2"
  }
 },
 "nbformat": 4,
 "nbformat_minor": 1
}
